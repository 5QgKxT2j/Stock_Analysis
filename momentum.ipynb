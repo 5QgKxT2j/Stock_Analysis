{
 "cells": [
  {
   "cell_type": "code",
   "execution_count": 41,
   "metadata": {
    "collapsed": true
   },
   "outputs": [],
   "source": [
    "# using TA-Lib\n",
    "# http://mrjbq7.github.io/ta-lib/install.html\n",
    "\n",
    "# copy from Pythonで簡単なモメンタム投資モデルを作る http://qiita.com/sawadybomb/items/9dc9d858aa399c8b4011\n",
    "# GUI manual https://media.readthedocs.org/pdf/jons-widgets-fork/nicedocs/jons-widgets-fork.pdf"
   ]
  },
  {
   "cell_type": "code",
   "execution_count": 63,
   "metadata": {
    "collapsed": false
   },
   "outputs": [],
   "source": [
    "%matplotlib inline\n",
    "from db import DB\n",
    "import datetime as dt\n",
    "import sqlite3\n",
    "import pandas.io.sql as psql\n",
    "import pandas as pd\n",
    "import numpy as np\n",
    "import talib as ta\n",
    "import matplotlib.pyplot as plt\n",
    "import pandas.tseries.offsets as offsets\n",
    "import ipywidgets as widgets\n",
    "from IPython.display import display"
   ]
  },
  {
   "cell_type": "code",
   "execution_count": 64,
   "metadata": {
    "collapsed": true
   },
   "outputs": [],
   "source": [
    "conn = sqlite3.connect(\"brand.sqlite3\")\n",
    "brand_list = psql.read_sql('select * from brand_list where market = \"マザーズ\"',conn)"
   ]
  },
  {
   "cell_type": "code",
   "execution_count": 65,
   "metadata": {
    "collapsed": false
   },
   "outputs": [],
   "source": [
    "codes = {}\n",
    "for row in brand_list.values:\n",
    "    codes[row[2].replace('(株)','')] = row[0]"
   ]
  },
  {
   "cell_type": "code",
   "execution_count": 66,
   "metadata": {
    "collapsed": false,
    "scrolled": true
   },
   "outputs": [
    {
     "data": {
      "text/plain": [
       "{'あんしん保証': 7183,\n",
       " 'じげん': 3679,\n",
       " 'そーせいグループ': 4565,\n",
       " 'はてな': 3930,\n",
       " 'みんなのウェディング': 3685,\n",
       " 'アイティメディア': 2148,\n",
       " 'アイドママーケティングコミュニケーション': 9466,\n",
       " 'アイビーシー': 3920,\n",
       " 'アイリッジ': 3917,\n",
       " 'アカツキ': 3932,\n",
       " 'アキュセラ': 4589,\n",
       " 'アクアライン': 6173,\n",
       " 'アクセルマーク': 3624,\n",
       " 'アクトコール': 6064,\n",
       " 'アクロディア': 3823,\n",
       " 'アスカネット': 2438,\n",
       " 'アトラエ': 6194,\n",
       " 'アドウェイズ': 2489,\n",
       " 'アドバンスト・メディア': 3773,\n",
       " 'アドベンチャー': 6030,\n",
       " 'アプリックスＩＰホールディングス': 3727,\n",
       " 'アマナ': 2402,\n",
       " 'アライドアーキテクツ': 6081,\n",
       " 'アルファポリス': 9467,\n",
       " 'アンジェス\\u3000ＭＧ': 4563,\n",
       " 'アーキテクツ・スタジオ・ジャパン': 6085,\n",
       " 'アークン': 3927,\n",
       " 'アールエイジ': 3248,\n",
       " 'イグニス': 3689,\n",
       " 'イトクロ': 6049,\n",
       " 'インスペック': 6656,\n",
       " 'インソース': 6200,\n",
       " 'インタースペース': 2122,\n",
       " 'インテア・ホールディングス': 3734,\n",
       " 'イントランス': 3237,\n",
       " 'インフォテリア': 3853,\n",
       " 'インベスターズクラウド': 1435,\n",
       " 'イード': 6038,\n",
       " 'エクストリーム': 6033,\n",
       " 'エディア': 3935,\n",
       " 'エナリス': 6079,\n",
       " 'エニグモ': 3665,\n",
       " 'エヌ・ピー・シー': 6255,\n",
       " 'エボラブルアジア': 6191,\n",
       " 'エムビーエス': 1401,\n",
       " 'エリアリンク': 8914,\n",
       " 'エンカレッジ・テクノロジ': 3682,\n",
       " 'エンバイオ・ホールディングス': 6092,\n",
       " 'オイシックス': 3182,\n",
       " 'オウチーノ': 6084,\n",
       " 'オンコセラピー・サイエンス': 4564,\n",
       " 'オンコリスバイオファーマ': 4588,\n",
       " 'オークファン': 3674,\n",
       " 'オープンドア': 3926,\n",
       " 'カイオム・バイオサイエンス': 4583,\n",
       " 'カナミックネットワーク': 3939,\n",
       " 'カヤック': 3904,\n",
       " 'キャリア': 6198,\n",
       " 'キャンバス': 4575,\n",
       " 'クラウドワークス': 3900,\n",
       " 'クロス・マーケティンググループ': 3675,\n",
       " 'グランディーズ': 3261,\n",
       " 'グリーンペプタイド': 4594,\n",
       " 'グローバルウェイ': 3936,\n",
       " 'グローバルグループ': 6189,\n",
       " 'ケアネット': 2150,\n",
       " 'コラボス': 3908,\n",
       " 'サイジニア': 6031,\n",
       " 'サイバーステップ': 3810,\n",
       " 'サマンサタバサジャパンリミテッド': 7829,\n",
       " 'サンバイオ': 4592,\n",
       " 'サンワカンパニー': 3187,\n",
       " 'シグマクシス': 6088,\n",
       " 'ショーケース・ティービー': 3909,\n",
       " 'シリコンスタジオ': 3907,\n",
       " 'シルバーエッグ・テクノロジー': 3961,\n",
       " 'シンクロ・フード': 3963,\n",
       " 'シンプロメンテ': 6086,\n",
       " 'ジェイグループホールディングス': 3063,\n",
       " 'ジェイリース': 7187,\n",
       " 'ジェネレーションパス': 3195,\n",
       " 'ジャパンインベストメントアドバイザー': 7172,\n",
       " 'ジーエヌアイグループ': 2160,\n",
       " 'ジーンテクノサイエンス': 4584,\n",
       " 'ストライク': 6196,\n",
       " 'ストリーム': 3071,\n",
       " 'セラク': 6199,\n",
       " 'セレス': 3696,\n",
       " 'ゼネラル・オイスター': 3224,\n",
       " 'ソケッツ': 3634,\n",
       " 'ソネット・メディア・ネットワークス': 6185,\n",
       " 'ソフトマックス': 3671,\n",
       " 'ソーシャルワイヤー': 3929,\n",
       " 'タイセイ': 3359,\n",
       " 'ダブルスタンダード': 3925,\n",
       " 'チェンジ': 3962,\n",
       " 'テラスカイ': 3915,\n",
       " 'テラプローブ': 6627,\n",
       " 'ディジタルメディアプロフェッショナル': 3652,\n",
       " 'ディー・ディー・エス': 3782,\n",
       " 'デジタルアイデンティティ': 6533,\n",
       " 'デファクトスタンダード': 3545,\n",
       " 'データセクション': 3905,\n",
       " 'データホライゾン': 3628,\n",
       " 'トライステージ': 2178,\n",
       " 'トラストホールディングス': 3286,\n",
       " 'トランスジェニック': 2342,\n",
       " 'トレンダーズ': 6069,\n",
       " 'ドリコム': 3793,\n",
       " 'ナノキャリア': 4571,\n",
       " 'ネオジャパン': 3921,\n",
       " 'ネットイヤーグループ': 3622,\n",
       " 'ハイアス・アンド・カンパニー': 6192,\n",
       " 'ハウスドゥ': 3457,\n",
       " 'バリューゴルフ': 3931,\n",
       " 'バリューデザイン': 3960,\n",
       " 'バルニバービ': 3418,\n",
       " 'バーチャレクス・コンサルティング': 6193,\n",
       " 'パス': 3840,\n",
       " 'パルマ': 3461,\n",
       " 'パートナーエージェント': 6181,\n",
       " 'ヒューマン・メタボローム・テクノロジーズ': 6090,\n",
       " 'ビジネス・ブレークスルー': 2464,\n",
       " 'ビジョン': 9416,\n",
       " 'ビューティ花壇': 3041,\n",
       " 'ビリングシステム': 3623,\n",
       " 'ビーロット': 3452,\n",
       " 'ピクスタ': 3416,\n",
       " 'ファンデリー': 3137,\n",
       " 'ファーストコーポレーション': 1430,\n",
       " 'ファーストブラザーズ': 3454,\n",
       " 'ファーマフーズ': 2929,\n",
       " 'フィックスターズ': 3687,\n",
       " 'フィット': 1436,\n",
       " 'フィンテック\\u3000グローバル': 8789,\n",
       " 'フェニックスバイオ': 6190,\n",
       " 'フォトクリエイト': 6075,\n",
       " 'フリークアウト': 6094,\n",
       " 'フルスピード': 2159,\n",
       " 'フルッタフルッタ': 2586,\n",
       " 'ブラス': 2424,\n",
       " 'ブランジスタ': 6176,\n",
       " 'プラッツ': 7813,\n",
       " 'プレシジョン・システム・サイエンス': 7707,\n",
       " 'ヘリオス': 4593,\n",
       " 'ベイカレント・コンサルティング': 6532,\n",
       " 'ベガコーポレーション': 3542,\n",
       " 'ベステラ': 1433,\n",
       " 'ベネフィットジャパン': 3934,\n",
       " 'ペッパーフードサービス': 3053,\n",
       " 'ホットリンク': 3680,\n",
       " 'ホープ': 6195,\n",
       " 'マイネット': 3928,\n",
       " 'マルマエ': 6264,\n",
       " 'マーケットエンタープライズ': 3135,\n",
       " 'ミクシィ': 2121,\n",
       " 'メタップス': 6172,\n",
       " 'メディアシーク': 4824,\n",
       " 'メディアフラッグ': 6067,\n",
       " 'メディア工房': 3815,\n",
       " 'メディカル・データ・ビジョン': 3902,\n",
       " 'メディネット': 2370,\n",
       " 'メドピア': 6095,\n",
       " 'メドレックス': 4586,\n",
       " 'モバイルファクトリー': 3912,\n",
       " 'モブキャスト': 3664,\n",
       " 'モルフォ': 3653,\n",
       " 'ユナイテッド': 2497,\n",
       " 'ヨシムラ・フード・ホールディングス': 2884,\n",
       " 'ライフネット生命保険': 7157,\n",
       " 'ラクス': 3923,\n",
       " 'リアルコム': 3856,\n",
       " 'リアルワールド': 3691,\n",
       " 'リファインバース': 6531,\n",
       " 'リボミック': 4591,\n",
       " 'リミックスポイント': 3825,\n",
       " 'リンクバル': 6046,\n",
       " 'レアジョブ': 6096,\n",
       " 'レントラックス': 6045,\n",
       " 'ロゼッタ': 6182,\n",
       " 'ロックオン': 3690,\n",
       " '中村超硬': 6166,\n",
       " '串カツ田中': 3547,\n",
       " '地盤ネットホールディングス': 6072,\n",
       " '夢展望': 3185,\n",
       " '大泉製作所': 6618,\n",
       " '富士山マガジンサービス': 3138,\n",
       " '弁護士ドットコム': 6027,\n",
       " '日本アクア': 1429,\n",
       " '日本アセットマーケティング': 8922,\n",
       " '日本スキー場開発': 6040,\n",
       " '日本ファルコム': 3723,\n",
       " '日本メディカルネットコミュニケーションズ': 3645,\n",
       " '日本動物高度医療センター': 6039,\n",
       " '日本社宅サービス': 8945,\n",
       " '比較．ｃｏｍ': 2477,\n",
       " '海帆': 3133,\n",
       " '総医研ホールディングス': 2385,\n",
       " '農業総合研究所': 3541,\n",
       " '鎌倉新書': 6184,\n",
       " '駅探': 3646,\n",
       " 'ＡＣＣＥＳＳ': 4813,\n",
       " 'ＡＬＢＥＲＴ': 3906,\n",
       " 'ＡＭＢＩＴＩＯＮ': 3300,\n",
       " 'ＡＳＪ': 2351,\n",
       " 'ＡＷＳホールディングス': 3937,\n",
       " 'Ａｉｍｉｎｇ': 3911,\n",
       " 'ＡｐｐＢａｎｋ': 6177,\n",
       " 'ＣＲＩ・ミドルウェア': 3698,\n",
       " 'ＣＹＢＥＲＤＹＮＥ': 7779,\n",
       " 'ＦＦＲＩ': 3692,\n",
       " 'ＦＲＯＮＴＥＯ': 2158,\n",
       " 'Ｇ−ＦＡＣＴＯＲＹ': 3474,\n",
       " 'ＧＭＯ\\u3000ＴＥＣＨ': 6026,\n",
       " 'ＧＭＯメディア': 6180,\n",
       " 'ＧＭＯリサーチ': 3695,\n",
       " 'Ｇｕｎｏｓｙ': 6047,\n",
       " 'ＩＴｂｏｏｋ': 3742,\n",
       " 'Ｊストリーム': 4308,\n",
       " 'ＪＩＧ−ＳＡＷ': 3914,\n",
       " 'ＬＩＴＡＬＩＣＯ': 6187,\n",
       " 'ＭＲＴ': 6034,\n",
       " 'ＮＴＴデータイントラマート': 3850,\n",
       " 'ＰＲ\\u3000ＴＩＭＥＳ': 3922,\n",
       " 'ＳＨＩＦＴ': 3697,\n",
       " 'ＴＯＫＹＯ\\u3000ＢＡＳＥ': 3415,\n",
       " 'ＵＭＮファーマ': 4585,\n",
       " 'ｓＭｅｄｉｏ': 3913}"
      ]
     },
     "execution_count": 66,
     "metadata": {},
     "output_type": "execute_result"
    }
   ],
   "source": [
    "codes"
   ]
  },
  {
   "cell_type": "code",
   "execution_count": 87,
   "metadata": {
    "collapsed": false
   },
   "outputs": [
    {
     "name": "stdout",
     "output_type": "stream",
     "text": [
      "<ipywidgets.widgets.widget_button.Button object at 0x7f5090f348d0>\n",
      "1433\n",
      "code_1433: The table found\n"
     ]
    }
   ],
   "source": [
    "w = widgets.Dropdown(\n",
    "    options = codes,\n",
    "    values=1433,\n",
    "    description='銘柄：'\n",
    ")\n",
    "display(w)\n",
    "\n",
    "data = pd.DataFrame()\n",
    "\n",
    "def read_data(b):\n",
    "    print(b)\n",
    "    print(w.value)\n",
    "    global data\n",
    "    code = w.value\n",
    "    db = DB(code)\n",
    "    data = db.read()\n",
    "    \n",
    "def momentum_plot():\n",
    "    global data\n",
    "    data['close'].astype(np.float64)\n",
    "    momentum = ta.MOM(data['close'].values,250)\n",
    "\n",
    "    length = len(data.index)\n",
    "    cash = [None for row in range(length)]\n",
    "    position = [None for row in range(length)]\n",
    "    asset = [None for row in range(length)]\n",
    "\n",
    "    cash[0] = 100000\n",
    "    position[0] = 0\n",
    "\n",
    "    for i, (index, row) in enumerate(data.iterrows()):\n",
    "        if i > 0:\n",
    "            cash[i] = cash[i-1]\n",
    "            position[i] = position[i-1]\n",
    "            \n",
    "            if momentum[i] > 0 and momentum[i-1] < 0:\n",
    "                amount = cash[i] // row['close']\n",
    "                position[i] += amount\n",
    "                cash[i] -= amount * row['close'] + 150\n",
    "            \n",
    "            elif momentum[i] < 0 and momentum[i-1] > 0:\n",
    "                cash[i] += position[i] * row['close'] - 150\n",
    "                position[i] =0\n",
    "        asset[i] = cash[i] + position[i] * row['close']\n",
    "    \n",
    "    data['asset'] = asset\n",
    "    \n",
    "    # plot result\n",
    "    d2 = pd.DataFrame()\n",
    "    d2['Stock'] = data['close'] / data['close'][0] * 100\n",
    "    d2['Performance'] = asset\n",
    "    d2['Performance'] = d2['Performance'] / asset[0] * 100\n",
    "    d2 = d2.set_index(pd.to_datetime(data['date']))\n",
    "\n",
    "    d2.plot()\n",
    "\n",
    "\n",
    "\n",
    "button = widgets.Button(description=\"データ読み込み\")\n",
    "display(button)\n",
    "button.on_click(read_data)"
   ]
  },
  {
   "cell_type": "code",
   "execution_count": 85,
   "metadata": {
    "collapsed": false
   },
   "outputs": [],
   "source": []
  },
  {
   "cell_type": "code",
   "execution_count": 86,
   "metadata": {
    "collapsed": false,
    "scrolled": true
   },
   "outputs": [
    {
     "data": {
      "text/plain": [
       "<matplotlib.axes._subplots.AxesSubplot at 0x7f5090c8a940>"
      ]
     },
     "execution_count": 86,
     "metadata": {},
     "output_type": "execute_result"
    },
    {
     "data": {
      "image/png": "[encoded data removed]",
      "text/plain": [
       "<matplotlib.figure.Figure at 0x7f5090c8abe0>"
      ]
     },
     "metadata": {},
     "output_type": "display_data"
    }
   ],
   "source": []
  },
  {
   "cell_type": "code",
   "execution_count": 47,
   "metadata": {
    "collapsed": false
   },
   "outputs": [
    {
     "data": {
      "text/plain": [
       "<matplotlib.axes._subplots.AxesSubplot at 0x7fe48fb6f240>"
      ]
     },
     "execution_count": 47,
     "metadata": {},
     "output_type": "execute_result"
    },
    {
     "data": {
      "image/png": "[encoded data removed]",
      "text/plain": [
       "<matplotlib.figure.Figure at 0x7fe48fcd8eb8>"
      ]
     },
     "metadata": {},
     "output_type": "display_data"
    }
   ],
   "source": [
    "data['momentam'] = ta.MOM(data['close'].values,250)\n",
    "data['momentam'].plot()\n",
    "data['close'].plot()"
   ]
  }
 ],
 "metadata": {
  "anaconda-cloud": {},
  "kernelspec": {
   "display_name": "Python [Root]",
   "language": "python",
   "name": "Python [Root]"
  },
  "language_info": {
   "codemirror_mode": {
    "name": "ipython",
    "version": 3
   },
   "file_extension": ".py",
   "mimetype": "text/x-python",
   "name": "python",
   "nbconvert_exporter": "python",
   "pygments_lexer": "ipython3",
   "version": "3.5.2"
  },
  "widgets": {
   "state": {
    "032afcb8d82d48f98b6e8e66c74c2592": {
     "views": [
      {
       "cell_index": 7
      }
     ]
    },
    "15bf7eaca6474929b50b04827a9002dc": {
     "views": [
      {
       "cell_index": 5
      }
     ]
    },
    "19f006279a124a68b1bfa2ba4ecea260": {
     "views": [
      {
       "cell_index": 5
      }
     ]
    },
    "26f8ccf07c0c4ad89bd5eca1ea0c7e47": {
     "views": [
      {
       "cell_index": 5
      }
     ]
    },
    "3b40b6f497ec4a06a04a559f0a01fd8f": {
     "views": [
      {
       "cell_index": 6
      }
     ]
    },
    "3b5e6de0a8734db5a7afe0b4ecec93a4": {
     "views": [
      {
       "cell_index": 7
      }
     ]
    },
    "576a67b462cd4317b2542a9982d2ed9b": {
     "views": [
      {
       "cell_index": 7
      }
     ]
    },
    "599cf97dddd5412ca824c7adbed0dab2": {
     "views": [
      {
       "cell_index": 5
      }
     ]
    },
    "697d3e7e69414f5292f275bb20576991": {
     "views": [
      {
       "cell_index": 6
      }
     ]
    },
    "80f0ffc2916e423a86bd5cae197a5953": {
     "views": [
      {
       "cell_index": 5
      }
     ]
    },
    "8302eed40668422ca5aa9215d4e83f74": {
     "views": [
      {
       "cell_index": 6
      }
     ]
    },
    "9d1fb12e23004c7ca4bfe7b0ad49bf32": {
     "views": [
      {
       "cell_index": 6
      }
     ]
    },
    "a9d4c5435df7495ba93600c834ffe7d1": {
     "views": [
      {
       "cell_index": 5
      }
     ]
    },
    "d31c06fb744c4ac992ea0dba12f6f5de": {
     "views": [
      {
       "cell_index": 6
      }
     ]
    },
    "d40a28eb0ddb4d8485e735b3c63a57bf": {
     "views": [
      {
       "cell_index": 5
      }
     ]
    },
    "e3d6c7fa01c74ecb90ffa08686a88e93": {
     "views": [
      {
       "cell_index": 6
      }
     ]
    },
    "e53fee15e59841fc9d56b52cc9593655": {
     "views": [
      {
       "cell_index": 5
      }
     ]
    },
    "f43bada37a094ea6a068fe039d1d5181": {
     "views": [
      {
       "cell_index": 6
      }
     ]
    },
    "fab5dca474b0486e88506b8ef30ac178": {
     "views": [
      {
       "cell_index": 6
      }
     ]
    },
    "ff6f7c7b17ce43d9b793b965b7d92dca": {
     "views": [
      {
       "cell_index": 5
      }
     ]
    }
   },
   "version": "1.2.0"
  }
 },
 "nbformat": 4,
 "nbformat_minor": 0
}
