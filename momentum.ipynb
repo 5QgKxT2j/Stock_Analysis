{
 "cells": [
  {
   "cell_type": "code",
   "execution_count": 1,
   "metadata": {
    "collapsed": true
   },
   "outputs": [],
   "source": [
    "# using TA-Lib\n",
    "# http://mrjbq7.github.io/ta-lib/install.html\n",
    "\n",
    "# copy from Pythonで簡単なモメンタム投資モデルを作る http://qiita.com/sawadybomb/items/9dc9d858aa399c8b4011\n",
    "# GUI manual https://media.readthedocs.org/pdf/jons-widgets-fork/nicedocs/jons-widgets-fork.pdf"
   ]
  },
  {
   "cell_type": "code",
   "execution_count": 2,
   "metadata": {
    "collapsed": false
   },
   "outputs": [],
   "source": [
    "%matplotlib inline\n",
    "from db import DB\n",
    "import datetime as dt\n",
    "import sqlite3\n",
    "import pandas.io.sql as psql\n",
    "import pandas as pd\n",
    "import talib as ta\n",
    "import matplotlib.pyplot as plt\n",
    "import pandas.tseries.offsets as offsets\n",
    "import ipywidgets as widgets\n",
    "from IPython.display import display"
   ]
  },
  {
   "cell_type": "code",
   "execution_count": 3,
   "metadata": {
    "collapsed": true
   },
   "outputs": [],
   "source": [
    "conn = sqlite3.connect(\"brand.sqlite3\")\n",
    "brand_list = psql.read_sql('select * from brand_list where market = \"マザーズ\"',conn)"
   ]
  },
  {
   "cell_type": "code",
   "execution_count": 4,
   "metadata": {
    "collapsed": false
   },
   "outputs": [],
   "source": [
    "codes = {}\n",
    "for row in brand_list.values:\n",
    "    codes[row[2]] = row[0]"
   ]
  },
  {
   "cell_type": "code",
   "execution_count": 5,
   "metadata": {
    "collapsed": false,
    "scrolled": true
   },
   "outputs": [
    {
     "data": {
      "text/plain": [
       "{'(株)じげん': 3679,\n",
       " '(株)はてな': 3930,\n",
       " '(株)みんなのウェディング': 3685,\n",
       " '(株)アイドママーケティングコミュニケーション': 9466,\n",
       " '(株)アイリッジ': 3917,\n",
       " '(株)アカツキ': 3932,\n",
       " '(株)アクアライン': 6173,\n",
       " '(株)アクトコール': 6064,\n",
       " '(株)アクロディア': 3823,\n",
       " '(株)アスカネット': 2438,\n",
       " '(株)アトラエ': 6194,\n",
       " '(株)アドウェイズ': 2489,\n",
       " '(株)アドバンスト・メディア': 3773,\n",
       " '(株)アドベンチャー': 6030,\n",
       " '(株)アマナ': 2402,\n",
       " '(株)アルファポリス': 9467,\n",
       " '(株)アークン': 3927,\n",
       " '(株)アールエイジ': 3248,\n",
       " '(株)イグニス': 3689,\n",
       " '(株)イトクロ': 6049,\n",
       " '(株)インソース': 6200,\n",
       " '(株)インタースペース': 2122,\n",
       " '(株)インテア・ホールディングス': 3734,\n",
       " '(株)イントランス': 3237,\n",
       " '(株)インベスターズクラウド': 1435,\n",
       " '(株)イード': 6038,\n",
       " '(株)エクストリーム': 6033,\n",
       " '(株)エディア': 3935,\n",
       " '(株)エナリス': 6079,\n",
       " '(株)エニグモ': 3665,\n",
       " '(株)エヌ・ピー・シー': 6255,\n",
       " '(株)エボラブルアジア': 6191,\n",
       " '(株)エムビーエス': 1401,\n",
       " '(株)エンバイオ・ホールディングス': 6092,\n",
       " '(株)オウチーノ': 6084,\n",
       " '(株)オークファン': 3674,\n",
       " '(株)オープンドア': 3926,\n",
       " '(株)カイオム・バイオサイエンス': 4583,\n",
       " '(株)カナミックネットワーク': 3939,\n",
       " '(株)カヤック': 3904,\n",
       " '(株)キャリア': 6198,\n",
       " '(株)キャンバス': 4575,\n",
       " '(株)クラウドワークス': 3900,\n",
       " '(株)クロス・マーケティンググループ': 3675,\n",
       " '(株)グランディーズ': 3261,\n",
       " '(株)グリーンペプタイド': 4594,\n",
       " '(株)グローバルウェイ': 3936,\n",
       " '(株)グローバルグループ': 6189,\n",
       " '(株)ケアネット': 2150,\n",
       " '(株)コラボス': 3908,\n",
       " '(株)サマンサタバサジャパンリミテッド': 7829,\n",
       " '(株)サンワカンパニー': 3187,\n",
       " '(株)シグマクシス': 6088,\n",
       " '(株)ショーケース・ティービー': 3909,\n",
       " '(株)シンクロ・フード': 3963,\n",
       " '(株)ジェイグループホールディングス': 3063,\n",
       " '(株)ジェネレーションパス': 3195,\n",
       " '(株)ジャパンインベストメントアドバイザー': 7172,\n",
       " '(株)ジーエヌアイグループ': 2160,\n",
       " '(株)ジーンテクノサイエンス': 4584,\n",
       " '(株)ストライク': 6196,\n",
       " '(株)ストリーム': 3071,\n",
       " '(株)セラク': 6199,\n",
       " '(株)セレス': 3696,\n",
       " '(株)ゼネラル・オイスター': 3224,\n",
       " '(株)ソケッツ': 3634,\n",
       " '(株)タイセイ': 3359,\n",
       " '(株)ダブルスタンダード': 3925,\n",
       " '(株)チェンジ': 3962,\n",
       " '(株)テラスカイ': 3915,\n",
       " '(株)テラプローブ': 6627,\n",
       " '(株)ディジタルメディアプロフェッショナル': 3652,\n",
       " '(株)ディー・ディー・エス': 3782,\n",
       " '(株)デジタルアイデンティティ': 6533,\n",
       " '(株)デファクトスタンダード': 3545,\n",
       " '(株)データホライゾン': 3628,\n",
       " '(株)トライステージ': 2178,\n",
       " '(株)トランスジェニック': 2342,\n",
       " '(株)ドリコム': 3793,\n",
       " '(株)ネオジャパン': 3921,\n",
       " '(株)ハウスドゥ': 3457,\n",
       " '(株)バリューゴルフ': 3931,\n",
       " '(株)バリューデザイン': 3960,\n",
       " '(株)バルニバービ': 3418,\n",
       " '(株)パルマ': 3461,\n",
       " '(株)パートナーエージェント': 6181,\n",
       " '(株)ビジネス・ブレークスルー': 2464,\n",
       " '(株)ビジョン': 9416,\n",
       " '(株)ビューティ花壇': 3041,\n",
       " '(株)ビーロット': 3452,\n",
       " '(株)ファンデリー': 3137,\n",
       " '(株)ファーマフーズ': 2929,\n",
       " '(株)フィックスターズ': 3687,\n",
       " '(株)フィット': 1436,\n",
       " '(株)フェニックスバイオ': 6190,\n",
       " '(株)フォトクリエイト': 6075,\n",
       " '(株)フリークアウト': 6094,\n",
       " '(株)フルスピード': 2159,\n",
       " '(株)フルッタフルッタ': 2586,\n",
       " '(株)ブラス': 2424,\n",
       " '(株)ブランジスタ': 6176,\n",
       " '(株)プラッツ': 7813,\n",
       " '(株)ヘリオス': 4593,\n",
       " '(株)ベイカレント・コンサルティング': 6532,\n",
       " '(株)ベガコーポレーション': 3542,\n",
       " '(株)ベネフィットジャパン': 3934,\n",
       " '(株)ペッパーフードサービス': 3053,\n",
       " '(株)ホットリンク': 3680,\n",
       " '(株)ホープ': 6195,\n",
       " '(株)マイネット': 3928,\n",
       " '(株)マルマエ': 6264,\n",
       " '(株)マーケットエンタープライズ': 3135,\n",
       " '(株)ミクシィ': 2121,\n",
       " '(株)メタップス': 6172,\n",
       " '(株)メディアシーク': 4824,\n",
       " '(株)メディアフラッグ': 6067,\n",
       " '(株)メディア工房': 3815,\n",
       " '(株)メディネット': 2370,\n",
       " '(株)メドレックス': 4586,\n",
       " '(株)モバイルファクトリー': 3912,\n",
       " '(株)モブキャスト': 3664,\n",
       " '(株)モルフォ': 3653,\n",
       " '(株)ヨシムラ・フード・ホールディングス': 2884,\n",
       " '(株)ラクス': 3923,\n",
       " '(株)リアルワールド': 3691,\n",
       " '(株)リボミック': 4591,\n",
       " '(株)リミックスポイント': 3825,\n",
       " '(株)リンクバル': 6046,\n",
       " '(株)レアジョブ': 6096,\n",
       " '(株)レントラックス': 6045,\n",
       " '(株)ロゼッタ': 6182,\n",
       " '(株)ロックオン': 3690,\n",
       " '(株)中村超硬': 6166,\n",
       " '(株)串カツ田中': 3547,\n",
       " '(株)大泉製作所': 6618,\n",
       " '(株)富士山マガジンサービス': 3138,\n",
       " '(株)日本アクア': 1429,\n",
       " '(株)日本動物高度医療センター': 6039,\n",
       " '(株)海帆': 3133,\n",
       " '(株)総医研ホールディングス': 2385,\n",
       " '(株)農業総合研究所': 3541,\n",
       " '(株)鎌倉新書': 6184,\n",
       " '(株)駅探': 3646,\n",
       " '(株)ＡＣＣＥＳＳ': 4813,\n",
       " '(株)ＡＬＢＥＲＴ': 3906,\n",
       " '(株)ＡＭＢＩＴＩＯＮ': 3300,\n",
       " '(株)ＡＳＪ': 2351,\n",
       " '(株)ＡＷＳホールディングス': 3937,\n",
       " '(株)Ａｉｍｉｎｇ': 3911,\n",
       " '(株)ＣＲＩ・ミドルウェア': 3698,\n",
       " '(株)ＦＦＲＩ': 3692,\n",
       " '(株)ＦＲＯＮＴＥＯ': 2158,\n",
       " '(株)Ｇｕｎｏｓｙ': 6047,\n",
       " '(株)Ｊストリーム': 4308,\n",
       " '(株)ＬＩＴＡＬＩＣＯ': 6187,\n",
       " '(株)ＮＴＴデータイントラマート': 3850,\n",
       " '(株)ＰＲ\\u3000ＴＩＭＥＳ': 3922,\n",
       " '(株)ＳＨＩＦＴ': 3697,\n",
       " '(株)ＴＯＫＹＯ\\u3000ＢＡＳＥ': 3415,\n",
       " '(株)ＵＭＮファーマ': 4585,\n",
       " '(株)ｓＭｅｄｉｏ': 3913,\n",
       " 'あんしん保証(株)': 7183,\n",
       " 'そーせいグループ(株)': 4565,\n",
       " 'アイティメディア(株)': 2148,\n",
       " 'アイビーシー(株)': 3920,\n",
       " 'アキュセラ': 4589,\n",
       " 'アクセルマーク(株)': 3624,\n",
       " 'アプリックスＩＰホールディングス(株)': 3727,\n",
       " 'アライドアーキテクツ(株)': 6081,\n",
       " 'アンジェス\\u3000ＭＧ(株)': 4563,\n",
       " 'アーキテクツ・スタジオ・ジャパン(株)': 6085,\n",
       " 'インスペック(株)': 6656,\n",
       " 'インフォテリア(株)': 3853,\n",
       " 'エリアリンク(株)': 8914,\n",
       " 'エンカレッジ・テクノロジ(株)': 3682,\n",
       " 'オイシックス(株)': 3182,\n",
       " 'オンコセラピー・サイエンス(株)': 4564,\n",
       " 'オンコリスバイオファーマ(株)': 4588,\n",
       " 'サイジニア(株)': 6031,\n",
       " 'サイバーステップ(株)': 3810,\n",
       " 'サンバイオ(株)': 4592,\n",
       " 'シリコンスタジオ(株)': 3907,\n",
       " 'シルバーエッグ・テクノロジー(株)': 3961,\n",
       " 'シンプロメンテ(株)': 6086,\n",
       " 'ジェイリース(株)': 7187,\n",
       " 'ソネット・メディア・ネットワークス(株)': 6185,\n",
       " 'ソフトマックス(株)': 3671,\n",
       " 'ソーシャルワイヤー(株)': 3929,\n",
       " 'データセクション(株)': 3905,\n",
       " 'トラストホールディングス(株)': 3286,\n",
       " 'トレンダーズ(株)': 6069,\n",
       " 'ナノキャリア(株)': 4571,\n",
       " 'ネットイヤーグループ(株)': 3622,\n",
       " 'ハイアス・アンド・カンパニー(株)': 6192,\n",
       " 'バーチャレクス・コンサルティング(株)': 6193,\n",
       " 'パス(株)': 3840,\n",
       " 'ヒューマン・メタボローム・テクノロジーズ(株)': 6090,\n",
       " 'ビリングシステム(株)': 3623,\n",
       " 'ピクスタ(株)': 3416,\n",
       " 'ファーストコーポレーション(株)': 1430,\n",
       " 'ファーストブラザーズ(株)': 3454,\n",
       " 'フィンテック\\u3000グローバル(株)': 8789,\n",
       " 'プレシジョン・システム・サイエンス(株)': 7707,\n",
       " 'ベステラ(株)': 1433,\n",
       " 'メディカル・データ・ビジョン(株)': 3902,\n",
       " 'メドピア(株)': 6095,\n",
       " 'ユナイテッド(株)': 2497,\n",
       " 'ライフネット生命保険(株)': 7157,\n",
       " 'リアルコム(株)': 3856,\n",
       " 'リファインバース(株)': 6531,\n",
       " '地盤ネットホールディングス(株)': 6072,\n",
       " '夢展望(株)': 3185,\n",
       " '弁護士ドットコム(株)': 6027,\n",
       " '日本アセットマーケティング(株)': 8922,\n",
       " '日本スキー場開発(株)': 6040,\n",
       " '日本ファルコム(株)': 3723,\n",
       " '日本メディカルネットコミュニケーションズ(株)': 3645,\n",
       " '日本社宅サービス(株)': 8945,\n",
       " '比較．ｃｏｍ(株)': 2477,\n",
       " 'ＡｐｐＢａｎｋ(株)': 6177,\n",
       " 'ＣＹＢＥＲＤＹＮＥ(株)': 7779,\n",
       " 'Ｇ−ＦＡＣＴＯＲＹ(株)': 3474,\n",
       " 'ＧＭＯ\\u3000ＴＥＣＨ(株)': 6026,\n",
       " 'ＧＭＯメディア(株)': 6180,\n",
       " 'ＧＭＯリサーチ(株)': 3695,\n",
       " 'ＩＴｂｏｏｋ(株)': 3742,\n",
       " 'ＪＩＧ−ＳＡＷ(株)': 3914,\n",
       " 'ＭＲＴ(株)': 6034}"
      ]
     },
     "execution_count": 5,
     "metadata": {},
     "output_type": "execute_result"
    }
   ],
   "source": [
    "codes"
   ]
  },
  {
   "cell_type": "code",
   "execution_count": 13,
   "metadata": {
    "collapsed": false
   },
   "outputs": [],
   "source": [
    "def read_data(code=w.value):\n",
    "    db = DB(code)\n",
    "    return db.read()"
   ]
  },
  {
   "cell_type": "code",
   "execution_count": 16,
   "metadata": {
    "collapsed": false
   },
   "outputs": [
    {
     "name": "stdout",
     "output_type": "stream",
     "text": [
      "code_6095: The table found\n"
     ]
    }
   ],
   "source": [
    "w = widgets.Dropdown(\n",
    "    options = codes,\n",
    "    values=3935,\n",
    "    description='銘柄：'\n",
    ")\n",
    "display(w)\n",
    "\n",
    "button = widgets.Button(description=\"データ読み込み\")\n",
    "display(button)\n",
    "button.on_click(read_data(w.value))"
   ]
  },
  {
   "cell_type": "code",
   "execution_count": 11,
   "metadata": {
    "collapsed": false
   },
   "outputs": [
    {
     "ename": "NameError",
     "evalue": "name 'data' is not defined",
     "output_type": "error",
     "traceback": [
      "\u001b[1;31m---------------------------------------------------------------------------\u001b[0m",
      "\u001b[1;31mNameError\u001b[0m                                 Traceback (most recent call last)",
      "\u001b[1;32m<ipython-input-11-5b43bf605a77>\u001b[0m in \u001b[0;36m<module>\u001b[1;34m()\u001b[0m\n\u001b[1;32m----> 1\u001b[1;33m \u001b[0mmomentum\u001b[0m \u001b[1;33m=\u001b[0m \u001b[0mta\u001b[0m\u001b[1;33m.\u001b[0m\u001b[0mMOM\u001b[0m\u001b[1;33m(\u001b[0m\u001b[0mdata\u001b[0m\u001b[1;33m[\u001b[0m\u001b[1;34m'close'\u001b[0m\u001b[1;33m]\u001b[0m\u001b[1;33m.\u001b[0m\u001b[0mvalues\u001b[0m\u001b[1;33m,\u001b[0m\u001b[1;36m250\u001b[0m\u001b[1;33m)\u001b[0m\u001b[1;33m\u001b[0m\u001b[0m\n\u001b[0m\u001b[0;32m      2\u001b[0m \u001b[1;33m\u001b[0m\u001b[0m\n\u001b[0;32m      3\u001b[0m \u001b[0mlength\u001b[0m \u001b[1;33m=\u001b[0m \u001b[0mlen\u001b[0m\u001b[1;33m(\u001b[0m\u001b[0mdata\u001b[0m\u001b[1;33m.\u001b[0m\u001b[0mindex\u001b[0m\u001b[1;33m)\u001b[0m\u001b[1;33m\u001b[0m\u001b[0m\n\u001b[0;32m      4\u001b[0m \u001b[0mcash\u001b[0m \u001b[1;33m=\u001b[0m \u001b[1;33m[\u001b[0m\u001b[1;32mNone\u001b[0m \u001b[1;32mfor\u001b[0m \u001b[0mrow\u001b[0m \u001b[1;32min\u001b[0m \u001b[0mrange\u001b[0m\u001b[1;33m(\u001b[0m\u001b[0mlength\u001b[0m\u001b[1;33m)\u001b[0m\u001b[1;33m]\u001b[0m\u001b[1;33m\u001b[0m\u001b[0m\n\u001b[0;32m      5\u001b[0m \u001b[0mposition\u001b[0m \u001b[1;33m=\u001b[0m \u001b[1;33m[\u001b[0m\u001b[1;32mNone\u001b[0m \u001b[1;32mfor\u001b[0m \u001b[0mrow\u001b[0m \u001b[1;32min\u001b[0m \u001b[0mrange\u001b[0m\u001b[1;33m(\u001b[0m\u001b[0mlength\u001b[0m\u001b[1;33m)\u001b[0m\u001b[1;33m]\u001b[0m\u001b[1;33m\u001b[0m\u001b[0m\n",
      "\u001b[1;31mNameError\u001b[0m: name 'data' is not defined"
     ]
    }
   ],
   "source": [
    "momentum = ta.MOM(data['close'].values,250)\n",
    "\n",
    "length = len(data.index)\n",
    "cash = [None for row in range(length)]\n",
    "position = [None for row in range(length)]\n",
    "asset = [None for row in range(length)]\n",
    "\n",
    "cash[0] = 100000\n",
    "position[0] = 0\n",
    "\n",
    "for i, (index, row) in enumerate(data.iterrows()):\n",
    "    if i > 0:\n",
    "        cash[i] = cash[i-1]\n",
    "        position[i] = position[i-1]\n",
    "        \n",
    "        if momentum[i] > 0 and momentum[i-1] < 0:\n",
    "            amount = cash[i] // row['close']\n",
    "            position[i] += amount\n",
    "            cash[i] -= amount * row['close'] + 150\n",
    "        \n",
    "        elif momentum[i] < 0 and momentum[i-1] > 0:\n",
    "            cash[i] += position[i] * row['close'] - 150\n",
    "            position[i] =0\n",
    "    asset[i] = cash[i] + position[i] * row['close']\n",
    "\n",
    "data['asset'] = asset\n"
   ]
  },
  {
   "cell_type": "code",
   "execution_count": 66,
   "metadata": {
    "collapsed": false
   },
   "outputs": [
    {
     "data": {
      "text/plain": [
       "<matplotlib.axes._subplots.AxesSubplot at 0x7fe48fd51320>"
      ]
     },
     "execution_count": 66,
     "metadata": {},
     "output_type": "execute_result"
    },
    {
     "data": {
      "image/png": "[encoded data removed]",
      "text/plain": [
       "<matplotlib.figure.Figure at 0x7fe48fd057f0>"
      ]
     },
     "metadata": {},
     "output_type": "display_data"
    }
   ],
   "source": [
    "# plot result\n",
    "d2 = pd.DataFrame()\n",
    "d2['Stock'] = data['close'] / data['close'][0] * 100\n",
    "d2['Performance'] = asset\n",
    "d2['Performance'] = d2['Performance'] / asset[0] * 100\n",
    "d2 = d2.set_index(pd.to_datetime(data['date']))\n",
    "\n",
    "d2.plot()\n"
   ]
  },
  {
   "cell_type": "code",
   "execution_count": null,
   "metadata": {
    "collapsed": true
   },
   "outputs": [],
   "source": []
  },
  {
   "cell_type": "code",
   "execution_count": 47,
   "metadata": {
    "collapsed": false
   },
   "outputs": [
    {
     "data": {
      "text/plain": [
       "<matplotlib.axes._subplots.AxesSubplot at 0x7fe48fb6f240>"
      ]
     },
     "execution_count": 47,
     "metadata": {},
     "output_type": "execute_result"
    },
    {
     "data": {
      "image/png": "[encoded data removed]",
      "text/plain": [
       "<matplotlib.figure.Figure at 0x7fe48fcd8eb8>"
      ]
     },
     "metadata": {},
     "output_type": "display_data"
    }
   ],
   "source": [
    "data['momentam'] = ta.MOM(data['close'].values,250)\n",
    "data['momentam'].plot()\n",
    "data['close'].plot()"
   ]
  }
 ],
 "metadata": {
  "anaconda-cloud": {},
  "kernelspec": {
   "display_name": "Python [Root]",
   "language": "python",
   "name": "Python [Root]"
  },
  "language_info": {
   "codemirror_mode": {
    "name": "ipython",
    "version": 3
   },
   "file_extension": ".py",
   "mimetype": "text/x-python",
   "name": "python",
   "nbconvert_exporter": "python",
   "pygments_lexer": "ipython3",
   "version": "3.5.2"
  },
  "widgets": {
   "state": {
    "4abbb76546b84ac88ae8fd9a0f947a88": {
     "views": [
      {
       "cell_index": 6
      }
     ]
    },
    "d31c06fb744c4ac992ea0dba12f6f5de": {
     "views": [
      {
       "cell_index": 6
      }
     ]
    },
    "e3d6c7fa01c74ecb90ffa08686a88e93": {
     "views": [
      {
       "cell_index": 6
      }
     ]
    }
   },
   "version": "1.2.0"
  }
 },
 "nbformat": 4,
 "nbformat_minor": 0
}
